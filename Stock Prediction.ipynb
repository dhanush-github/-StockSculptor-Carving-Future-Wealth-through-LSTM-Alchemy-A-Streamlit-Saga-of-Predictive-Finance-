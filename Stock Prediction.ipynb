{
 "cells": [
  {
   "cell_type": "code",
   "execution_count": 1,
   "id": "0b8efd1f",
   "metadata": {},
   "outputs": [],
   "source": [
    "import numpy as np\n",
    "import pandas as pd\n",
    "import matplotlib.pyplot as plt\n",
    "import yfinance as yf"
   ]
  },
  {
   "cell_type": "code",
   "execution_count": 2,
   "id": "38971980",
   "metadata": {},
   "outputs": [
    {
     "name": "stdout",
     "output_type": "stream",
     "text": [
      "[*********************100%%**********************]  1 of 1 completed\n"
     ]
    }
   ],
   "source": [
    "start = '2012-01-01'\n",
    "end = '2023-12-31'\n",
    "stock = 'GOOG'\n",
    "\n",
    "data = yf.download(stock, start, end)"
   ]
  },
  {
   "cell_type": "code",
   "execution_count": 3,
   "id": "3075a008",
   "metadata": {},
   "outputs": [],
   "source": [
    "data.reset_index(inplace=True)"
   ]
  },
  {
   "cell_type": "code",
   "execution_count": 4,
   "id": "07b24a62",
   "metadata": {},
   "outputs": [
    {
     "data": {
      "text/html": [
       "<div>\n",
       "<style scoped>\n",
       "    .dataframe tbody tr th:only-of-type {\n",
       "        vertical-align: middle;\n",
       "    }\n",
       "\n",
       "    .dataframe tbody tr th {\n",
       "        vertical-align: top;\n",
       "    }\n",
       "\n",
       "    .dataframe thead th {\n",
       "        text-align: right;\n",
       "    }\n",
       "</style>\n",
       "<table border=\"1\" class=\"dataframe\">\n",
       "  <thead>\n",
       "    <tr style=\"text-align: right;\">\n",
       "      <th></th>\n",
       "      <th>Date</th>\n",
       "      <th>Open</th>\n",
       "      <th>High</th>\n",
       "      <th>Low</th>\n",
       "      <th>Close</th>\n",
       "      <th>Adj Close</th>\n",
       "      <th>Volume</th>\n",
       "    </tr>\n",
       "  </thead>\n",
       "  <tbody>\n",
       "    <tr>\n",
       "      <th>0</th>\n",
       "      <td>2012-01-03</td>\n",
       "      <td>16.262545</td>\n",
       "      <td>16.641375</td>\n",
       "      <td>16.248346</td>\n",
       "      <td>16.573130</td>\n",
       "      <td>16.573130</td>\n",
       "      <td>147611217</td>\n",
       "    </tr>\n",
       "    <tr>\n",
       "      <th>1</th>\n",
       "      <td>2012-01-04</td>\n",
       "      <td>16.563665</td>\n",
       "      <td>16.693678</td>\n",
       "      <td>16.453827</td>\n",
       "      <td>16.644611</td>\n",
       "      <td>16.644611</td>\n",
       "      <td>114989399</td>\n",
       "    </tr>\n",
       "    <tr>\n",
       "      <th>2</th>\n",
       "      <td>2012-01-05</td>\n",
       "      <td>16.491436</td>\n",
       "      <td>16.537264</td>\n",
       "      <td>16.344486</td>\n",
       "      <td>16.413727</td>\n",
       "      <td>16.413727</td>\n",
       "      <td>131808205</td>\n",
       "    </tr>\n",
       "    <tr>\n",
       "      <th>3</th>\n",
       "      <td>2012-01-06</td>\n",
       "      <td>16.417213</td>\n",
       "      <td>16.438385</td>\n",
       "      <td>16.184088</td>\n",
       "      <td>16.189817</td>\n",
       "      <td>16.189817</td>\n",
       "      <td>108119746</td>\n",
       "    </tr>\n",
       "    <tr>\n",
       "      <th>4</th>\n",
       "      <td>2012-01-09</td>\n",
       "      <td>16.102144</td>\n",
       "      <td>16.114599</td>\n",
       "      <td>15.472754</td>\n",
       "      <td>15.503389</td>\n",
       "      <td>15.503389</td>\n",
       "      <td>233776981</td>\n",
       "    </tr>\n",
       "    <tr>\n",
       "      <th>...</th>\n",
       "      <td>...</td>\n",
       "      <td>...</td>\n",
       "      <td>...</td>\n",
       "      <td>...</td>\n",
       "      <td>...</td>\n",
       "      <td>...</td>\n",
       "      <td>...</td>\n",
       "    </tr>\n",
       "    <tr>\n",
       "      <th>3013</th>\n",
       "      <td>2023-12-22</td>\n",
       "      <td>142.130005</td>\n",
       "      <td>143.250000</td>\n",
       "      <td>142.054993</td>\n",
       "      <td>142.720001</td>\n",
       "      <td>142.720001</td>\n",
       "      <td>18494700</td>\n",
       "    </tr>\n",
       "    <tr>\n",
       "      <th>3014</th>\n",
       "      <td>2023-12-26</td>\n",
       "      <td>142.979996</td>\n",
       "      <td>143.945007</td>\n",
       "      <td>142.500000</td>\n",
       "      <td>142.820007</td>\n",
       "      <td>142.820007</td>\n",
       "      <td>11170100</td>\n",
       "    </tr>\n",
       "    <tr>\n",
       "      <th>3015</th>\n",
       "      <td>2023-12-27</td>\n",
       "      <td>142.830002</td>\n",
       "      <td>143.320007</td>\n",
       "      <td>141.050995</td>\n",
       "      <td>141.440002</td>\n",
       "      <td>141.440002</td>\n",
       "      <td>17288400</td>\n",
       "    </tr>\n",
       "    <tr>\n",
       "      <th>3016</th>\n",
       "      <td>2023-12-28</td>\n",
       "      <td>141.850006</td>\n",
       "      <td>142.270004</td>\n",
       "      <td>140.828003</td>\n",
       "      <td>141.279999</td>\n",
       "      <td>141.279999</td>\n",
       "      <td>12192500</td>\n",
       "    </tr>\n",
       "    <tr>\n",
       "      <th>3017</th>\n",
       "      <td>2023-12-29</td>\n",
       "      <td>140.679993</td>\n",
       "      <td>141.434998</td>\n",
       "      <td>139.899994</td>\n",
       "      <td>140.929993</td>\n",
       "      <td>140.929993</td>\n",
       "      <td>14872700</td>\n",
       "    </tr>\n",
       "  </tbody>\n",
       "</table>\n",
       "<p>3018 rows × 7 columns</p>\n",
       "</div>"
      ],
      "text/plain": [
       "           Date        Open        High         Low       Close   Adj Close  \\\n",
       "0    2012-01-03   16.262545   16.641375   16.248346   16.573130   16.573130   \n",
       "1    2012-01-04   16.563665   16.693678   16.453827   16.644611   16.644611   \n",
       "2    2012-01-05   16.491436   16.537264   16.344486   16.413727   16.413727   \n",
       "3    2012-01-06   16.417213   16.438385   16.184088   16.189817   16.189817   \n",
       "4    2012-01-09   16.102144   16.114599   15.472754   15.503389   15.503389   \n",
       "...         ...         ...         ...         ...         ...         ...   \n",
       "3013 2023-12-22  142.130005  143.250000  142.054993  142.720001  142.720001   \n",
       "3014 2023-12-26  142.979996  143.945007  142.500000  142.820007  142.820007   \n",
       "3015 2023-12-27  142.830002  143.320007  141.050995  141.440002  141.440002   \n",
       "3016 2023-12-28  141.850006  142.270004  140.828003  141.279999  141.279999   \n",
       "3017 2023-12-29  140.679993  141.434998  139.899994  140.929993  140.929993   \n",
       "\n",
       "         Volume  \n",
       "0     147611217  \n",
       "1     114989399  \n",
       "2     131808205  \n",
       "3     108119746  \n",
       "4     233776981  \n",
       "...         ...  \n",
       "3013   18494700  \n",
       "3014   11170100  \n",
       "3015   17288400  \n",
       "3016   12192500  \n",
       "3017   14872700  \n",
       "\n",
       "[3018 rows x 7 columns]"
      ]
     },
     "execution_count": 4,
     "metadata": {},
     "output_type": "execute_result"
    }
   ],
   "source": [
    "data"
   ]
  },
  {
   "cell_type": "code",
   "execution_count": 5,
   "id": "b279a82f",
   "metadata": {},
   "outputs": [],
   "source": [
    "ma_100_days = data.Close.rolling(100).mean()"
   ]
  },
  {
   "cell_type": "code",
   "execution_count": 6,
   "id": "c3ed925b",
   "metadata": {},
   "outputs": [
    {
     "data": {
      "text/plain": [
       "0            NaN\n",
       "1            NaN\n",
       "2            NaN\n",
       "3            NaN\n",
       "4            NaN\n",
       "          ...   \n",
       "3013    134.4154\n",
       "3014    134.5559\n",
       "3015    134.6849\n",
       "3016    134.7783\n",
       "3017    134.8692\n",
       "Name: Close, Length: 3018, dtype: float64"
      ]
     },
     "execution_count": 6,
     "metadata": {},
     "output_type": "execute_result"
    }
   ],
   "source": [
    "ma_100_days"
   ]
  },
  {
   "cell_type": "code",
   "execution_count": 7,
   "id": "6c54de2f",
   "metadata": {},
   "outputs": [
    {
     "data": {
      "image/png": "[encoded data removed]",
      "text/plain": [
       "<Figure size 576x432 with 1 Axes>"
      ]
     },
     "metadata": {
      "needs_background": "light"
     },
     "output_type": "display_data"
    }
   ],
   "source": [
    "plt.figure(figsize=(8,6))\n",
    "plt.plot(ma_100_days, 'r')\n",
    "plt.plot(data.Close, 'g')\n",
    "plt.show()"
   ]
  },
  {
   "cell_type": "code",
   "execution_count": 8,
   "id": "3e0a20cd",
   "metadata": {},
   "outputs": [],
   "source": [
    "ma_200_days = data.Close.rolling(200).mean()"
   ]
  },
  {
   "cell_type": "code",
   "execution_count": 9,
   "id": "941622ea",
   "metadata": {},
   "outputs": [
    {
     "data": {
      "image/png": "[encoded data removed]",
      "text/plain": [
       "<Figure size 576x432 with 1 Axes>"
      ]
     },
     "metadata": {
      "needs_background": "light"
     },
     "output_type": "display_data"
    }
   ],
   "source": [
    "plt.figure(figsize=(8,6))\n",
    "plt.plot(ma_100_days, 'r')\n",
    "plt.plot(ma_200_days,'b')\n",
    "plt.plot(data.Close,'g')\n",
    "plt.show()"
   ]
  },
  {
   "cell_type": "code",
   "execution_count": 10,
   "id": "88dbc1a5",
   "metadata": {},
   "outputs": [],
   "source": [
    "data.dropna(inplace=True)"
   ]
  },
  {
   "cell_type": "code",
   "execution_count": 11,
   "id": "6d146550",
   "metadata": {},
   "outputs": [],
   "source": [
    "data_train = pd.DataFrame(data.Close[0: int(len(data)*0.80)])\n",
    "data_test = pd.DataFrame(data.Close[int(len(data)*0.80): len(data)])"
   ]
  },
  {
   "cell_type": "code",
   "execution_count": 12,
   "id": "35b8c978",
   "metadata": {},
   "outputs": [
    {
     "data": {
      "text/plain": [
       "2414"
      ]
     },
     "execution_count": 12,
     "metadata": {},
     "output_type": "execute_result"
    }
   ],
   "source": [
    "data_train.shape[0]"
   ]
  },
  {
   "cell_type": "code",
   "execution_count": 14,
   "id": "3aeedf7d",
   "metadata": {},
   "outputs": [
    {
     "data": {
      "text/plain": [
       "604"
      ]
     },
     "execution_count": 14,
     "metadata": {},
     "output_type": "execute_result"
    }
   ],
   "source": [
    "data_test.shape[0]"
   ]
  },
  {
   "cell_type": "code",
   "execution_count": 15,
   "id": "6d66b849",
   "metadata": {},
   "outputs": [],
   "source": [
    "from sklearn.preprocessing import MinMaxScaler\n",
    "scaler = MinMaxScaler(feature_range=(0,1))"
   ]
  },
  {
   "cell_type": "code",
   "execution_count": 16,
   "id": "c6837d22",
   "metadata": {},
   "outputs": [],
   "source": [
    "data_train_scale = scaler.fit_transform(data_train)"
   ]
  },
  {
   "cell_type": "code",
   "execution_count": 17,
   "id": "a6ebeb5f",
   "metadata": {},
   "outputs": [],
   "source": [
    "x = []\n",
    "y = []\n",
    "\n",
    "for i in range(100, data_train_scale.shape[0]):\n",
    "    x.append(data_train_scale[i-100:i])\n",
    "    y.append(data_train_scale[i,0])\n",
    "    "
   ]
  },
  {
   "cell_type": "code",
   "execution_count": 18,
   "id": "653049a7",
   "metadata": {},
   "outputs": [],
   "source": [
    "x, y = np.array(x), np.array(y)"
   ]
  },
  {
   "cell_type": "code",
   "execution_count": 19,
   "id": "805f4d0e",
   "metadata": {},
   "outputs": [],
   "source": [
    "from keras.layers import Dense, Dropout, LSTM\n",
    "from keras.models import Sequential"
   ]
  },
  {
   "cell_type": "code",
   "execution_count": 20,
   "id": "42aa9e6d",
   "metadata": {},
   "outputs": [],
   "source": [
    "model = Sequential()\n",
    "model.add(LSTM(units = 50, activation = 'relu', return_sequences = True,\n",
    "               input_shape = ((x.shape[1],1))))\n",
    "model.add(Dropout(0.2))\n",
    "\n",
    "model.add(LSTM(units = 60, activation='relu', return_sequences = True))\n",
    "model.add(Dropout(0.3))\n",
    "\n",
    "model.add(LSTM(units = 80, activation = 'relu', return_sequences = True))\n",
    "model.add(Dropout(0.4))\n",
    "\n",
    "model.add(LSTM(units = 120, activation = 'relu'))\n",
    "model.add(Dropout(0.5))\n",
    "\n",
    "model.add(Dense(units =1))"
   ]
  },
  {
   "cell_type": "code",
   "execution_count": 21,
   "id": "0547f3d5",
   "metadata": {},
   "outputs": [
    {
     "name": "stdout",
     "output_type": "stream",
     "text": [
      "Model: \"sequential\"\n",
      "_________________________________________________________________\n",
      " Layer (type)                Output Shape              Param #   \n",
      "=================================================================\n",
      " lstm (LSTM)                 (None, 100, 50)           10400     \n",
      "                                                                 \n",
      " dropout (Dropout)           (None, 100, 50)           0         \n",
      "                                                                 \n",
      " lstm_1 (LSTM)               (None, 100, 60)           26640     \n",
      "                                                                 \n",
      " dropout_1 (Dropout)         (None, 100, 60)           0         \n",
      "                                                                 \n",
      " lstm_2 (LSTM)               (None, 100, 80)           45120     \n",
      "                                                                 \n",
      " dropout_2 (Dropout)         (None, 100, 80)           0         \n",
      "                                                                 \n",
      " lstm_3 (LSTM)               (None, 120)               96480     \n",
      "                                                                 \n",
      " dropout_3 (Dropout)         (None, 120)               0         \n",
      "                                                                 \n",
      " dense (Dense)               (None, 1)                 121       \n",
      "                                                                 \n",
      "=================================================================\n",
      "Total params: 178,761\n",
      "Trainable params: 178,761\n",
      "Non-trainable params: 0\n",
      "_________________________________________________________________\n"
     ]
    }
   ],
   "source": [
    "model.summary()"
   ]
  },
  {
   "cell_type": "code",
   "execution_count": 22,
   "id": "66ea4cfe",
   "metadata": {},
   "outputs": [],
   "source": [
    "model.compile(optimizer = 'adam', loss = 'mean_squared_error')"
   ]
  },
  {
   "cell_type": "code",
   "execution_count": 23,
   "id": "bd112447",
   "metadata": {},
   "outputs": [
    {
     "name": "stdout",
     "output_type": "stream",
     "text": [
      "Epoch 1/50\n",
      "73/73 [==============================] - 31s 374ms/step - loss: 0.0163\n",
      "Epoch 2/50\n",
      "73/73 [==============================] - 24s 333ms/step - loss: 0.0041\n",
      "Epoch 3/50\n",
      "73/73 [==============================] - 24s 329ms/step - loss: 0.0034\n",
      "Epoch 4/50\n",
      "73/73 [==============================] - 22s 300ms/step - loss: 0.0035\n",
      "Epoch 5/50\n",
      "73/73 [==============================] - 14s 187ms/step - loss: 0.0028\n",
      "Epoch 6/50\n",
      "73/73 [==============================] - 14s 193ms/step - loss: 0.0033\n",
      "Epoch 7/50\n",
      "73/73 [==============================] - 15s 210ms/step - loss: 0.0028\n",
      "Epoch 8/50\n",
      "73/73 [==============================] - 14s 196ms/step - loss: 0.0028\n",
      "Epoch 9/50\n",
      "73/73 [==============================] - 16s 211ms/step - loss: 0.0025\n",
      "Epoch 10/50\n",
      "73/73 [==============================] - 16s 224ms/step - loss: 0.0022\n",
      "Epoch 11/50\n",
      "73/73 [==============================] - 16s 225ms/step - loss: 0.0029\n",
      "Epoch 12/50\n",
      "73/73 [==============================] - 18s 254ms/step - loss: 0.0023\n",
      "Epoch 13/50\n",
      "73/73 [==============================] - 20s 267ms/step - loss: 0.0022\n",
      "Epoch 14/50\n",
      "73/73 [==============================] - 18s 251ms/step - loss: 0.0022\n",
      "Epoch 15/50\n",
      "73/73 [==============================] - 18s 252ms/step - loss: 0.0020\n",
      "Epoch 16/50\n",
      "73/73 [==============================] - 20s 272ms/step - loss: 0.0020\n",
      "Epoch 17/50\n",
      "73/73 [==============================] - 19s 258ms/step - loss: 0.0021\n",
      "Epoch 18/50\n",
      "73/73 [==============================] - 20s 271ms/step - loss: 0.0019\n",
      "Epoch 19/50\n",
      "73/73 [==============================] - 20s 271ms/step - loss: 0.0026\n",
      "Epoch 20/50\n",
      "73/73 [==============================] - 19s 256ms/step - loss: 0.0021\n",
      "Epoch 21/50\n",
      "73/73 [==============================] - 20s 276ms/step - loss: 0.0017\n",
      "Epoch 22/50\n",
      "73/73 [==============================] - 17s 229ms/step - loss: 0.0018\n",
      "Epoch 23/50\n",
      "73/73 [==============================] - 17s 237ms/step - loss: 0.0018\n",
      "Epoch 24/50\n",
      "73/73 [==============================] - 17s 232ms/step - loss: 0.0018\n",
      "Epoch 25/50\n",
      "73/73 [==============================] - 20s 279ms/step - loss: 0.0019\n",
      "Epoch 26/50\n",
      "73/73 [==============================] - 18s 240ms/step - loss: 0.0019\n",
      "Epoch 27/50\n",
      "73/73 [==============================] - 17s 227ms/step - loss: 0.0016\n",
      "Epoch 28/50\n",
      "73/73 [==============================] - 20s 271ms/step - loss: 0.0017\n",
      "Epoch 29/50\n",
      "73/73 [==============================] - 18s 242ms/step - loss: 0.0017\n",
      "Epoch 30/50\n",
      "73/73 [==============================] - 17s 236ms/step - loss: 0.0017\n",
      "Epoch 31/50\n",
      "73/73 [==============================] - 18s 243ms/step - loss: 0.0017\n",
      "Epoch 32/50\n",
      "73/73 [==============================] - 17s 237ms/step - loss: 0.0016\n",
      "Epoch 33/50\n",
      "73/73 [==============================] - 17s 228ms/step - loss: 0.0017\n",
      "Epoch 34/50\n",
      "73/73 [==============================] - 17s 227ms/step - loss: 0.0018\n",
      "Epoch 35/50\n",
      "73/73 [==============================] - 19s 256ms/step - loss: 0.0015\n",
      "Epoch 36/50\n",
      "73/73 [==============================] - 19s 262ms/step - loss: 0.0018\n",
      "Epoch 37/50\n",
      "73/73 [==============================] - 17s 234ms/step - loss: 0.0017\n",
      "Epoch 38/50\n",
      "73/73 [==============================] - 17s 238ms/step - loss: 0.0015\n",
      "Epoch 39/50\n",
      "73/73 [==============================] - 25s 340ms/step - loss: 0.0019\n",
      "Epoch 40/50\n",
      "73/73 [==============================] - 20s 278ms/step - loss: 0.0017\n",
      "Epoch 41/50\n",
      "73/73 [==============================] - 19s 253ms/step - loss: 0.0017\n",
      "Epoch 42/50\n",
      "73/73 [==============================] - 18s 243ms/step - loss: 0.0017\n",
      "Epoch 43/50\n",
      "73/73 [==============================] - 21s 289ms/step - loss: 0.0015\n",
      "Epoch 44/50\n",
      "73/73 [==============================] - 17s 237ms/step - loss: 0.0016\n",
      "Epoch 45/50\n",
      "73/73 [==============================] - 18s 245ms/step - loss: 0.0015\n",
      "Epoch 46/50\n",
      "73/73 [==============================] - 19s 260ms/step - loss: 0.0015\n",
      "Epoch 47/50\n",
      "73/73 [==============================] - 18s 245ms/step - loss: 0.0017\n",
      "Epoch 48/50\n",
      "73/73 [==============================] - 19s 260ms/step - loss: 0.0015\n",
      "Epoch 49/50\n",
      "73/73 [==============================] - 18s 242ms/step - loss: 0.0015\n",
      "Epoch 50/50\n",
      "73/73 [==============================] - 19s 262ms/step - loss: 0.0016\n"
     ]
    },
    {
     "data": {
      "text/plain": [
       "<keras.callbacks.History at 0x185d4284670>"
      ]
     },
     "execution_count": 23,
     "metadata": {},
     "output_type": "execute_result"
    }
   ],
   "source": [
    "model.fit(x,y, epochs = 50, batch_size =32, verbose = True)"
   ]
  },
  {
   "cell_type": "code",
   "execution_count": 24,
   "id": "08c6678a",
   "metadata": {},
   "outputs": [],
   "source": [
    "pas_100_days = data_train.tail(100)"
   ]
  },
  {
   "cell_type": "code",
   "execution_count": 25,
   "id": "35d82973",
   "metadata": {},
   "outputs": [],
   "source": [
    "data_test = pd.concat([pas_100_days, data_test], ignore_index=True)"
   ]
  },
  {
   "cell_type": "code",
   "execution_count": 26,
   "id": "b7a63215",
   "metadata": {},
   "outputs": [],
   "source": [
    "data_test_scale  =  scaler.fit_transform(data_test)"
   ]
  },
  {
   "cell_type": "code",
   "execution_count": 27,
   "id": "27d9ac99",
   "metadata": {},
   "outputs": [],
   "source": [
    "x = []\n",
    "y = []\n",
    "\n",
    "for i in range(100, data_test_scale.shape[0]):\n",
    "    x.append(data_test_scale[i-100:i])\n",
    "    y.append(data_test_scale[i,0])\n",
    "x, y = np.array(x), np.array(y)"
   ]
  },
  {
   "cell_type": "code",
   "execution_count": 28,
   "id": "30639d43",
   "metadata": {},
   "outputs": [],
   "source": [
    "y_predict = model.predict(x)"
   ]
  },
  {
   "cell_type": "code",
   "execution_count": 29,
   "id": "4196c976",
   "metadata": {},
   "outputs": [],
   "source": [
    "scale =1/scaler.scale_"
   ]
  },
  {
   "cell_type": "code",
   "execution_count": 30,
   "id": "13aadd86",
   "metadata": {},
   "outputs": [],
   "source": [
    "y_predict = y_predict*scale"
   ]
  },
  {
   "cell_type": "code",
   "execution_count": 31,
   "id": "3f4339f9",
   "metadata": {},
   "outputs": [],
   "source": [
    "y = y*scale"
   ]
  },
  {
   "cell_type": "code",
   "execution_count": 32,
   "id": "dda42e30",
   "metadata": {},
   "outputs": [
    {
     "data": {
      "image/png": "[encoded data removed]",
      "text/plain": [
       "<Figure size 720x576 with 1 Axes>"
      ]
     },
     "metadata": {
      "needs_background": "light"
     },
     "output_type": "display_data"
    }
   ],
   "source": [
    "plt.figure(figsize=(10,8))\n",
    "plt.plot(y_predict, 'r', label = 'Predicted Price')\n",
    "plt.plot(y, 'g', label = 'Original Price')\n",
    "plt.xlabel('Time')\n",
    "plt.ylabel('Price')\n",
    "plt.legend()\n",
    "plt.show()"
   ]
  },
  {
   "cell_type": "code",
   "execution_count": 33,
   "id": "f8cf6a9b",
   "metadata": {},
   "outputs": [],
   "source": [
    "model.save('Stock Predictions Model.keras')"
   ]
  },
  {
   "cell_type": "code",
   "execution_count": null,
   "id": "14a7aa89",
   "metadata": {},
   "outputs": [],
   "source": []
  }
 ],
 "metadata": {
  "kernelspec": {
   "display_name": "Python 3 (ipykernel)",
   "language": "python",
   "name": "python3"
  },
  "language_info": {
   "codemirror_mode": {
    "name": "ipython",
    "version": 3
   },
   "file_extension": ".py",
   "mimetype": "text/x-python",
   "name": "python",
   "nbconvert_exporter": "python",
   "pygments_lexer": "ipython3",
   "version": "3.9.12"
  }
 },
 "nbformat": 4,
 "nbformat_minor": 5
}
